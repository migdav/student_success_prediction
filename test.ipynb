{
 "cells": [
  {
   "cell_type": "code",
   "execution_count": 2,
   "id": "1ecac59b",
   "metadata": {},
   "outputs": [],
   "source": [
    "import pandas as pd\n",
    "from sklearn.model_selection import train_test_split\n",
    "from sklearn import metrics\n",
    "from sklearn.tree import DecisionTreeClassifier"
   ]
  },
  {
   "cell_type": "code",
   "execution_count": 3,
   "id": "15a0a086",
   "metadata": {},
   "outputs": [],
   "source": [
    "studentInfo = pd.read_csv('studentInfo.csv')"
   ]
  },
  {
   "cell_type": "code",
   "execution_count": 4,
   "id": "b2c9fc5b",
   "metadata": {},
   "outputs": [],
   "source": [
    "###### modifications #######\n",
    "#removing empty fields\n",
    "nan_value = float(\"NaN\")\n",
    "studentInfo.replace(\"\", nan_value, inplace=True)\n",
    "studentInfo.dropna(subset = list(studentInfo.columns), inplace=True)\n",
    "studentInfo.dropna(subset = ['final_result'], inplace=True)\n",
    "# remove withdrawn\n",
    "studentInfo = studentInfo.drop(studentInfo[studentInfo.final_result == 'Withdrawn'].index)\n",
    "# distinction = pass\n",
    "studentInfo.loc[studentInfo.final_result == 'Distinction', ['final_result']] = 'Pass'"
   ]
  },
  {
   "cell_type": "code",
   "execution_count": 5,
   "id": "46902643",
   "metadata": {},
   "outputs": [
    {
     "name": "stdout",
     "output_type": "stream",
     "text": [
      "      code_module code_presentation  id_student gender                region  \\\n",
      "0             AAA             2013J       11391      M   East Anglian Region   \n",
      "1             AAA             2013J       28400      F              Scotland   \n",
      "3             AAA             2013J       31604      F     South East Region   \n",
      "4             AAA             2013J       32885      F  West Midlands Region   \n",
      "5             AAA             2013J       38053      M                 Wales   \n",
      "...           ...               ...         ...    ...                   ...   \n",
      "32587         GGG             2014J     2620947      F              Scotland   \n",
      "32588         GGG             2014J     2640965      F                 Wales   \n",
      "32589         GGG             2014J     2645731      F   East Anglian Region   \n",
      "32590         GGG             2014J     2648187      F          South Region   \n",
      "32592         GGG             2014J     2684003      F      Yorkshire Region   \n",
      "\n",
      "           highest_education imd_band age_band  num_of_prev_attempts  \\\n",
      "0           HE Qualification  90-100%     55<=                     0   \n",
      "1           HE Qualification   20-30%    35-55                     0   \n",
      "3      A Level or Equivalent   50-60%    35-55                     0   \n",
      "4         Lower Than A Level   50-60%     0-35                     0   \n",
      "5      A Level or Equivalent   80-90%    35-55                     0   \n",
      "...                      ...      ...      ...                   ...   \n",
      "32587  A Level or Equivalent   80-90%     0-35                     0   \n",
      "32588     Lower Than A Level   20-Oct     0-35                     0   \n",
      "32589     Lower Than A Level   40-50%    35-55                     0   \n",
      "32590  A Level or Equivalent   20-30%     0-35                     0   \n",
      "32592       HE Qualification   50-60%    35-55                     0   \n",
      "\n",
      "       studied_credits disability final_result  \n",
      "0                  240          N         Pass  \n",
      "1                   60          N         Pass  \n",
      "3                   60          N         Pass  \n",
      "4                   60          N         Pass  \n",
      "5                   60          N         Pass  \n",
      "...                ...        ...          ...  \n",
      "32587               30          Y         Pass  \n",
      "32588               30          N         Fail  \n",
      "32589               30          N         Pass  \n",
      "32590               30          Y         Pass  \n",
      "32592               30          N         Pass  \n",
      "\n",
      "[21562 rows x 12 columns]\n"
     ]
    }
   ],
   "source": [
    "print(studentInfo)"
   ]
  },
  {
   "cell_type": "code",
   "execution_count": null,
   "id": "255cfdc2",
   "metadata": {},
   "outputs": [],
   "source": []
  }
 ],
 "metadata": {
  "kernelspec": {
   "display_name": "Python 3 (ipykernel)",
   "language": "python",
   "name": "python3"
  },
  "language_info": {
   "codemirror_mode": {
    "name": "ipython",
    "version": 3
   },
   "file_extension": ".py",
   "mimetype": "text/x-python",
   "name": "python",
   "nbconvert_exporter": "python",
   "pygments_lexer": "ipython3",
   "version": "3.9.7"
  }
 },
 "nbformat": 4,
 "nbformat_minor": 5
}
